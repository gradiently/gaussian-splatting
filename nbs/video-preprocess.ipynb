{
 "cells": [
  {
   "cell_type": "code",
   "execution_count": 3,
   "metadata": {},
   "outputs": [],
   "source": [
    "from pytube import YouTube\n",
    "from pathlib import Path"
   ]
  },
  {
   "cell_type": "code",
   "execution_count": 30,
   "metadata": {},
   "outputs": [],
   "source": [
    "video_link = \"https://www.youtube.com/watch?v=5dp_AKwv5vI\"\n",
    "filename='hp.mp4'\n",
    "scene_name = filename.split('.')[0]\n"
   ]
  },
  {
   "cell_type": "code",
   "execution_count": 43,
   "metadata": {},
   "outputs": [],
   "source": [
    "ROOT = Path(\".\").absolute().parent\n",
    "VIDEOS = ROOT/\"videos\"\n",
    "DATA = ROOT/\"data\"\n",
    "SCENE = DATA/scene_name\n",
    "SCENE.mkdir(exist_ok=True, parents=True)\n",
    "(SCENE/\"input\").mkdir(exist_ok=True)\n",
    "(SCENE/\"distorted\").mkdir(exist_ok=True)"
   ]
  },
  {
   "cell_type": "markdown",
   "metadata": {},
   "source": [
    "## Downlaod youtube video"
   ]
  },
  {
   "cell_type": "code",
   "execution_count": 20,
   "metadata": {},
   "outputs": [
    {
     "name": "stdout",
     "output_type": "stream",
     "text": [
      "<Stream: itag=\"18\" mime_type=\"video/mp4\" res=\"360p\" fps=\"30fps\" vcodec=\"avc1.42001E\" acodec=\"mp4a.40.2\" progressive=\"True\" type=\"video\">\n",
      "<Stream: itag=\"271\" mime_type=\"video/webm\" res=\"1440p\" fps=\"30fps\" vcodec=\"vp9\" progressive=\"False\" type=\"video\">\n",
      "<Stream: itag=\"137\" mime_type=\"video/mp4\" res=\"1080p\" fps=\"30fps\" vcodec=\"avc1.640028\" progressive=\"False\" type=\"video\">\n",
      "<Stream: itag=\"248\" mime_type=\"video/webm\" res=\"1080p\" fps=\"30fps\" vcodec=\"vp9\" progressive=\"False\" type=\"video\">\n",
      "<Stream: itag=\"136\" mime_type=\"video/mp4\" res=\"720p\" fps=\"30fps\" vcodec=\"avc1.4d401f\" progressive=\"False\" type=\"video\">\n",
      "<Stream: itag=\"247\" mime_type=\"video/webm\" res=\"720p\" fps=\"30fps\" vcodec=\"vp9\" progressive=\"False\" type=\"video\">\n",
      "<Stream: itag=\"135\" mime_type=\"video/mp4\" res=\"480p\" fps=\"30fps\" vcodec=\"avc1.4d401e\" progressive=\"False\" type=\"video\">\n",
      "<Stream: itag=\"244\" mime_type=\"video/webm\" res=\"480p\" fps=\"30fps\" vcodec=\"vp9\" progressive=\"False\" type=\"video\">\n",
      "<Stream: itag=\"134\" mime_type=\"video/mp4\" res=\"360p\" fps=\"30fps\" vcodec=\"avc1.4d401e\" progressive=\"False\" type=\"video\">\n",
      "<Stream: itag=\"243\" mime_type=\"video/webm\" res=\"360p\" fps=\"30fps\" vcodec=\"vp9\" progressive=\"False\" type=\"video\">\n",
      "<Stream: itag=\"133\" mime_type=\"video/mp4\" res=\"240p\" fps=\"30fps\" vcodec=\"avc1.4d400d\" progressive=\"False\" type=\"video\">\n",
      "<Stream: itag=\"242\" mime_type=\"video/webm\" res=\"240p\" fps=\"30fps\" vcodec=\"vp9\" progressive=\"False\" type=\"video\">\n",
      "<Stream: itag=\"160\" mime_type=\"video/mp4\" res=\"144p\" fps=\"30fps\" vcodec=\"avc1.4d400c\" progressive=\"False\" type=\"video\">\n",
      "<Stream: itag=\"278\" mime_type=\"video/webm\" res=\"144p\" fps=\"30fps\" vcodec=\"vp9\" progressive=\"False\" type=\"video\">\n",
      "<Stream: itag=\"139\" mime_type=\"audio/mp4\" abr=\"48kbps\" acodec=\"mp4a.40.5\" progressive=\"False\" type=\"audio\">\n",
      "<Stream: itag=\"140\" mime_type=\"audio/mp4\" abr=\"128kbps\" acodec=\"mp4a.40.2\" progressive=\"False\" type=\"audio\">\n",
      "<Stream: itag=\"249\" mime_type=\"audio/webm\" abr=\"50kbps\" acodec=\"opus\" progressive=\"False\" type=\"audio\">\n",
      "<Stream: itag=\"250\" mime_type=\"audio/webm\" abr=\"70kbps\" acodec=\"opus\" progressive=\"False\" type=\"audio\">\n",
      "<Stream: itag=\"251\" mime_type=\"audio/webm\" abr=\"160kbps\" acodec=\"opus\" progressive=\"False\" type=\"audio\">\n"
     ]
    }
   ],
   "source": [
    "\n",
    "video = YouTube(video_link)\n",
    "for stream in video.streams:\n",
    "    print(stream)"
   ]
  },
  {
   "cell_type": "code",
   "execution_count": null,
   "metadata": {},
   "outputs": [],
   "source": [
    "\n",
    "video_path = video.streams[2].download(\n",
    "    output_path=VIDEOS/\"inputs\", filename=filename)\n"
   ]
  },
  {
   "cell_type": "code",
   "execution_count": 25,
   "metadata": {},
   "outputs": [],
   "source": [
    "video_path = str(VIDEOS/\"inputs\"/filename)"
   ]
  },
  {
   "cell_type": "markdown",
   "metadata": {},
   "source": [
    "## Extract image from video\n",
    "If you change the input video, plese change the parameter:\n",
    "* between(t, time1, time2) in the following expression"
   ]
  },
  {
   "cell_type": "code",
   "execution_count": 47,
   "metadata": {},
   "outputs": [
    {
     "name": "stdout",
     "output_type": "stream",
     "text": [
      "ffmpeg version 4.2.2 Copyright (c) 2000-2019 the FFmpeg developers\n",
      "  built with clang version 12.0.0\n",
      "  configuration: --prefix=/Users/drwho/anaconda3 --cc=arm64-apple-darwin20.0.0-clang --disable-doc --enable-avresample --enable-gmp --enable-hardcoded-tables --enable-libfreetype --enable-libvpx --enable-pthreads --enable-libopus --enable-postproc --enable-pic --enable-pthreads --enable-shared --enable-static --enable-version3 --enable-zlib --enable-libmp3lame --disable-nonfree --enable-gpl --enable-gnutls --disable-openssl --enable-libopenh264 --enable-libx264\n",
      "  libavutil      56. 31.100 / 56. 31.100\n",
      "  libavcodec     58. 54.100 / 58. 54.100\n",
      "  libavformat    58. 29.100 / 58. 29.100\n",
      "  libavdevice    58.  8.100 / 58.  8.100\n",
      "  libavfilter     7. 57.100 /  7. 57.100\n",
      "  libavresample   4.  0.  0 /  4.  0.  0\n",
      "  libswscale      5.  5.100 /  5.  5.100\n",
      "  libswresample   3.  5.100 /  3.  5.100\n",
      "  libpostproc    55.  5.100 / 55.  5.100\n",
      "Input #0, mov,mp4,m4a,3gp,3g2,mj2, from '/Users/drwho/github/gaussian-splatting/videos/inputs/hp.mp4':\n",
      "  Metadata:\n",
      "    major_brand     : dash\n",
      "    minor_version   : 0\n",
      "    compatible_brands: iso6avc1mp41\n",
      "    creation_time   : 2024-02-23T23:44:25.000000Z\n",
      "  Duration: 00:05:10.28, start: 0.000000, bitrate: 1689 kb/s\n",
      "    Stream #0:0(und): Video: h264 (High) (avc1 / 0x31637661), yuv420p(tv, bt709, progressive), 1920x810 [SAR 1:1 DAR 64:27], 15 kb/s, 29.97 fps, 29.97 tbr, 30k tbn, 59.94 tbc (default)\n",
      "    Metadata:\n",
      "      creation_time   : 2024-02-23T23:44:25.000000Z\n",
      "      handler_name    : ISO Media file produced by Google Inc.\n",
      "Stream mapping:\n",
      "  Stream #0:0 -> #0:0 (h264 (native) -> mjpeg (native))\n",
      "Press [q] to stop, [?] for help\n",
      "\u001b[1;34m[swscaler @ 0x128590000] \u001b[0m\u001b[0;33mdeprecated pixel format used, make sure you did set range correctly\n",
      "\u001b[0mOutput #0, image2, to '/Users/drwho/github/gaussian-splatting/data/hp/input/image_%04d.jpg':\n",
      "  Metadata:\n",
      "    major_brand     : dash\n",
      "    minor_version   : 0\n",
      "    compatible_brands: iso6avc1mp41\n",
      "    encoder         : Lavf58.29.100\n",
      "    Stream #0:0(und): Video: mjpeg, yuvj420p(pc), 1920x810 [SAR 1:1 DAR 64:27], q=2-31, 200 kb/s, 29.97 fps, 29.97 tbn, 29.97 tbc (default)\n",
      "    Metadata:\n",
      "      creation_time   : 2024-02-23T23:44:25.000000Z\n",
      "      handler_name    : ISO Media file produced by Google Inc.\n",
      "      encoder         : Lavc58.54.100 mjpeg\n",
      "    Side data:\n",
      "      cpb: bitrate max/min/avg: 0/0/200000 buffer size: 0 vbv_delay: -1\n",
      "frame=  141 fps= 28 q=2.0 Lsize=N/A time=00:00:04.70 bitrate=N/A speed=0.928x    \n",
      "video:9776kB audio:0kB subtitle:0kB other streams:0kB global headers:0kB muxing overhead: unknown\n"
     ]
    }
   ],
   "source": [
    "!ffmpeg -i {video_path} -vf \"select='between(t,0.3,5)',setpts=N/FRAME_RATE/TB\" -vsync vfr -q:v 2 {SCENE}/input/image_%04d.jpg"
   ]
  },
  {
   "cell_type": "markdown",
   "metadata": {},
   "source": [
    "## COLMAP SFM (Structure from Motion)\n",
    "> It's a lot of hassle to install this nakedly on your machine, this docker file will suffice just fine\n",
    "\n",
    "### Build docker command"
   ]
  },
  {
   "cell_type": "markdown",
   "metadata": {},
   "source": [
    "Run a docker container with the following command:"
   ]
  },
  {
   "cell_type": "code",
   "execution_count": 44,
   "metadata": {},
   "outputs": [
    {
     "name": "stdout",
     "output_type": "stream",
     "text": [
      "docker run -it --rm -v /Users/drwho/github/gaussian-splatting/data:/root/data --name colmap colmap/colmap /bin/bash\n",
      "\n"
     ]
    }
   ],
   "source": [
    "print(\n",
    "    f\"\"\"docker run -it --rm -v {DATA}:/root/data --name colmap colmap/colmap /bin/bash\n",
    "\"\"\")\n",
    " "
   ]
  },
  {
   "cell_type": "markdown",
   "metadata": {},
   "source": [
    "Inside the docker container, run these following commands, it might take a while"
   ]
  },
  {
   "cell_type": "markdown",
   "metadata": {},
   "source": [
    "### Cmd 1: Feature extraction"
   ]
  },
  {
   "cell_type": "code",
   "execution_count": 45,
   "metadata": {},
   "outputs": [
    {
     "name": "stdout",
     "output_type": "stream",
     "text": [
      "\n",
      "colmap feature_extractor   --database_path /root/data/hp/distorted/database.db   --image_path /root/data/hp/input   --ImageReader.single_camera 1   --ImageReader.camera_model SIMPLE_PINHOLE   --SiftExtraction.use_gpu false\n",
      "\n"
     ]
    }
   ],
   "source": [
    "print(f\"\"\"\n",
    "colmap feature_extractor \\\n",
    "  --database_path /root/data/{scene_name}/distorted/database.db \\\n",
    "  --image_path /root/data/{scene_name}/input \\\n",
    "  --ImageReader.single_camera 1 \\\n",
    "  --ImageReader.camera_model SIMPLE_PINHOLE \\\n",
    "  --SiftExtraction.use_gpu false\n",
    "\"\"\")"
   ]
  },
  {
   "cell_type": "markdown",
   "metadata": {},
   "source": [
    "### Cmd 2: Feature matching"
   ]
  },
  {
   "cell_type": "code",
   "execution_count": 48,
   "metadata": {},
   "outputs": [
    {
     "name": "stdout",
     "output_type": "stream",
     "text": [
      "\n",
      "colmap exhaustive_matcher   --database_path /root/data/hp/distorted/database.db   --SiftMatching.use_gpu false\n",
      "\n"
     ]
    }
   ],
   "source": [
    "print(f\"\"\"\n",
    "colmap exhaustive_matcher \\\n",
    "  --database_path /root/data/{scene_name}/distorted/database.db \\\n",
    "  --SiftMatching.use_gpu false\n",
    "\"\"\")"
   ]
  },
  {
   "cell_type": "markdown",
   "metadata": {},
   "source": [
    "### Cmd 3: Bundle adjustment\n",
    "> The default Mapper tolerance is unnecessarily large, decreasing it speeds up bundle adjustment steps."
   ]
  },
  {
   "cell_type": "code",
   "execution_count": 53,
   "metadata": {},
   "outputs": [
    {
     "name": "stdout",
     "output_type": "stream",
     "text": [
      "\n",
      "mkdir /root/data/hp/distorted/sparse;\n",
      "colmap mapper --database_path /root/data/hp/distorted/database.db --image_path /root/data/hp/input --output_path /root/data/hp/distorted/sparse --Mapper.ba_global_function_tolerance=0.000001\n",
      "\n"
     ]
    }
   ],
   "source": [
    "print(f\"\"\"\n",
    "mkdir /root/data/{scene_name}/distorted/sparse;\n",
    "colmap mapper \\\n",
    "--database_path /root/data/{scene_name}/distorted/database.db \\\n",
    "--image_path /root/data/{scene_name}/input \\\n",
    "--output_path /root/data/{scene_name}/distorted/sparse \\\n",
    "--Mapper.ba_global_function_tolerance=0.000001\n",
    "\"\"\")"
   ]
  },
  {
   "cell_type": "markdown",
   "metadata": {},
   "source": [
    "### Cmd 4: Image undistortion\n",
    "> We need to undistort our images into ideal pinhole intrinsics."
   ]
  },
  {
   "cell_type": "code",
   "execution_count": 54,
   "metadata": {},
   "outputs": [
    {
     "name": "stdout",
     "output_type": "stream",
     "text": [
      "\n",
      "mkdir -p /root/data/hp/distorted/sparse/0;\n",
      "colmap image_undistorter --image_path /root/data/hp/input --input_path /root/data/hp/distorted/sparse/0 --output_path /root/data/hp/ --output_type COLMAP\n"
     ]
    }
   ],
   "source": [
    "print(f\"\"\"\n",
    "mkdir -p /root/data/{scene_name}/distorted/sparse/0;\n",
    "colmap image_undistorter \\\n",
    "--image_path /root/data/{scene_name}/input \\\n",
    "--input_path /root/data/{scene_name}/distorted/sparse/0 \\\n",
    "--output_path /root/data/{scene_name}/ \\\n",
    "--output_type COLMAP\"\"\")"
   ]
  },
  {
   "cell_type": "markdown",
   "metadata": {},
   "source": [
    "Move all the `sparse` files to `sparse/0` folder"
   ]
  },
  {
   "cell_type": "markdown",
   "metadata": {},
   "source": [
    "### Move the sparse files"
   ]
  },
  {
   "cell_type": "code",
   "execution_count": 55,
   "metadata": {},
   "outputs": [],
   "source": [
    "SPARSE = SCENE/\"sparse\"\n",
    "SPARSE0 = SCENE/\"sparse\"/\"0\"\n",
    "SPARSE0.mkdir(exist_ok=True, parents=True)\n",
    "\n",
    "for file in SPARSE.iterdir():\n",
    "    if file.name == \"0\":\n",
    "        continue\n",
    "    # move to sparse/0\n",
    "    file.rename(SPARSE0/file.name)"
   ]
  },
  {
   "cell_type": "markdown",
   "metadata": {},
   "source": []
  },
  {
   "cell_type": "code",
   "execution_count": null,
   "metadata": {},
   "outputs": [],
   "source": []
  }
 ],
 "metadata": {
  "kernelspec": {
   "display_name": "base",
   "language": "python",
   "name": "python3"
  },
  "language_info": {
   "codemirror_mode": {
    "name": "ipython",
    "version": 3
   },
   "file_extension": ".py",
   "mimetype": "text/x-python",
   "name": "python",
   "nbconvert_exporter": "python",
   "pygments_lexer": "ipython3",
   "version": "3.9.12"
  }
 },
 "nbformat": 4,
 "nbformat_minor": 2
}
