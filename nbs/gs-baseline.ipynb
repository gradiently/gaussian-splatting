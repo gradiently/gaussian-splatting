{
  "cells": [
    {
      "cell_type": "markdown",
      "source": [
        "# Gaussian Splatting Baseline"
      ],
      "metadata": {
        "id": "Mfv3m-I8do-y"
      },
      "id": "Mfv3m-I8do-y"
    },
    {
      "cell_type": "code",
      "id": "8jzWB6wt7wqB5nYvMPYCaRRZ",
      "metadata": {
        "tags": [],
        "id": "8jzWB6wt7wqB5nYvMPYCaRRZ",
        "colab": {
          "base_uri": "https://localhost:8080/"
        },
        "executionInfo": {
          "status": "ok",
          "timestamp": 1720060428836,
          "user_tz": 420,
          "elapsed": 921,
          "user": {
            "displayName": "",
            "userId": ""
          }
        },
        "outputId": "c9ba6643-6667-44d1-aab0-a2ae7de26e25"
      },
      "source": [
        "!nvidia-smi"
      ],
      "execution_count": 1,
      "outputs": [
        {
          "output_type": "stream",
          "name": "stdout",
          "text": [
            "Thu Jul  4 02:33:47 2024       \n",
            "+-----------------------------------------------------------------------------------------+\n",
            "| NVIDIA-SMI 550.54.14              Driver Version: 550.54.14      CUDA Version: 12.4     |\n",
            "|-----------------------------------------+------------------------+----------------------+\n",
            "| GPU  Name                 Persistence-M | Bus-Id          Disp.A | Volatile Uncorr. ECC |\n",
            "| Fan  Temp   Perf          Pwr:Usage/Cap |           Memory-Usage | GPU-Util  Compute M. |\n",
            "|                                         |                        |               MIG M. |\n",
            "|=========================================+========================+======================|\n",
            "|   0  NVIDIA A100-SXM4-40GB          Off |   00000000:00:04.0 Off |                    0 |\n",
            "| N/A   28C    P0             43W /  400W |       0MiB /  40960MiB |      0%      Default |\n",
            "|                                         |                        |             Disabled |\n",
            "+-----------------------------------------+------------------------+----------------------+\n",
            "                                                                                         \n",
            "+-----------------------------------------------------------------------------------------+\n",
            "| Processes:                                                                              |\n",
            "|  GPU   GI   CI        PID   Type   Process name                              GPU Memory |\n",
            "|        ID   ID                                                               Usage      |\n",
            "|=========================================================================================|\n",
            "|  No running processes found                                                             |\n",
            "+-----------------------------------------------------------------------------------------+\n"
          ]
        }
      ]
    },
    {
      "cell_type": "code",
      "source": [
        "%load_ext autoreload\n",
        "%autoreload 2"
      ],
      "metadata": {
        "id": "h9ukwzjyeBdo",
        "executionInfo": {
          "status": "ok",
          "timestamp": 1720060428836,
          "user_tz": 420,
          "elapsed": 7,
          "user": {
            "displayName": "",
            "userId": ""
          }
        }
      },
      "id": "h9ukwzjyeBdo",
      "execution_count": 2,
      "outputs": []
    },
    {
      "cell_type": "markdown",
      "source": [
        "## Recursively Clone the Repo"
      ],
      "metadata": {
        "id": "D2VYVc77ekD1"
      },
      "id": "D2VYVc77ekD1"
    },
    {
      "cell_type": "code",
      "source": [
        "!git clone https://gradiently:$(gcloud secrets versions access 1 --secret=\"gh_pat\")@github.com/gradiently/gaussian-splatting.git --recursive\n",
        "!mkdir -p repos\n",
        "!mv gaussian-splatting repos/gaussian-splatting"
      ],
      "metadata": {
        "colab": {
          "base_uri": "https://localhost:8080/"
        },
        "id": "bSv4dLN4eFie",
        "executionInfo": {
          "status": "ok",
          "timestamp": 1719270008771,
          "user_tz": 420,
          "elapsed": 17110,
          "user": {
            "displayName": "",
            "userId": ""
          }
        },
        "outputId": "a2d1eb88-e212-43a6-b1d6-1d8c1eda51d0"
      },
      "id": "bSv4dLN4eFie",
      "execution_count": null,
      "outputs": [
        {
          "output_type": "stream",
          "name": "stdout",
          "text": [
            "Cloning into 'gaussian-splatting'...\n",
            "remote: Enumerating objects: 734, done.\u001b[K\n",
            "remote: Total 734 (delta 0), reused 0 (delta 0), pack-reused 734\u001b[K\n",
            "Receiving objects: 100% (734/734), 2.13 MiB | 54.65 MiB/s, done.\n",
            "Resolving deltas: 100% (429/429), done.\n",
            "Submodule 'SIBR_viewers' (https://gitlab.inria.fr/sibr/sibr_core.git) registered for path 'SIBR_viewers'\n",
            "Submodule 'submodules/diff-gaussian-rasterization' (https://github.com/graphdeco-inria/diff-gaussian-rasterization) registered for path 'submodules/diff-gaussian-rasterization'\n",
            "Submodule 'submodules/simple-knn' (https://gitlab.inria.fr/bkerbl/simple-knn.git) registered for path 'submodules/simple-knn'\n",
            "Cloning into '/content/gaussian-splatting/SIBR_viewers'...\n",
            "remote: Enumerating objects: 3157, done.        \n",
            "remote: Counting objects: 100% (211/211), done.        \n",
            "remote: Compressing objects: 100% (199/199), done.        \n",
            "remote: Total 3157 (delta 101), reused 12 (delta 12), pack-reused 2946 (from 1)        \n",
            "Receiving objects: 100% (3157/3157), 9.93 MiB | 4.89 MiB/s, done.\n",
            "Resolving deltas: 100% (1944/1944), done.\n",
            "Cloning into '/content/gaussian-splatting/submodules/diff-gaussian-rasterization'...\n",
            "remote: Enumerating objects: 222, done.        \n",
            "remote: Counting objects: 100% (130/130), done.        \n",
            "remote: Compressing objects: 100% (41/41), done.        \n",
            "remote: Total 222 (delta 110), reused 89 (delta 89), pack-reused 92        \n",
            "Receiving objects: 100% (222/222), 73.58 KiB | 12.26 MiB/s, done.\n",
            "Resolving deltas: 100% (141/141), done.\n",
            "Cloning into '/content/gaussian-splatting/submodules/simple-knn'...\n",
            "remote: Enumerating objects: 34, done.        \n",
            "remote: Counting objects: 100% (34/34), done.        \n",
            "remote: Compressing objects: 100% (31/31), done.        \n",
            "remote: Total 34 (delta 16), reused 0 (delta 0), pack-reused 0 (from 0)        \n",
            "Receiving objects: 100% (34/34), 9.14 KiB | 9.14 MiB/s, done.\n",
            "Resolving deltas: 100% (16/16), done.\n",
            "Submodule path 'SIBR_viewers': checked out '4ae964a267cd7a844d9766563cf9d0b500131a22'\n",
            "Submodule path 'submodules/diff-gaussian-rasterization': checked out '59f5f77e3ddbac3ed9db93ec2cfe99ed6c5d121d'\n",
            "Submodule 'third_party/glm' (https://github.com/g-truc/glm.git) registered for path 'submodules/diff-gaussian-rasterization/third_party/glm'\n",
            "Cloning into '/content/gaussian-splatting/submodules/diff-gaussian-rasterization/third_party/glm'...\n",
            "remote: Enumerating objects: 59615, done.        \n",
            "remote: Counting objects: 100% (5/5), done.        \n",
            "remote: Compressing objects: 100% (4/4), done.        \n",
            "remote: Total 59615 (delta 0), reused 3 (delta 0), pack-reused 59610        \n",
            "Receiving objects: 100% (59615/59615), 71.19 MiB | 22.96 MiB/s, done.\n",
            "Resolving deltas: 100% (45206/45206), done.\n",
            "Submodule path 'submodules/diff-gaussian-rasterization/third_party/glm': checked out '5c46b9c07008ae65cb81ab79cd677ecc1934b903'\n",
            "Submodule path 'submodules/simple-knn': checked out '44f764299fa305faf6ec5ebd99939e0508331503'\n"
          ]
        }
      ]
    },
    {
      "cell_type": "markdown",
      "source": [
        "## Installation"
      ],
      "metadata": {
        "id": "6k_Uj5qieori"
      },
      "id": "6k_Uj5qieori"
    },
    {
      "cell_type": "code",
      "source": [
        "!ls repos/gaussian-splatting/"
      ],
      "metadata": {
        "colab": {
          "base_uri": "https://localhost:8080/"
        },
        "id": "blIpvj0xwhsO",
        "executionInfo": {
          "status": "ok",
          "timestamp": 1720043023278,
          "user_tz": 420,
          "elapsed": 780,
          "user": {
            "displayName": "",
            "userId": ""
          }
        },
        "outputId": "3df75e6b-f184-49e9-b1ea-c2c265d39af3"
      },
      "id": "blIpvj0xwhsO",
      "execution_count": null,
      "outputs": [
        {
          "output_type": "stream",
          "name": "stdout",
          "text": [
            "arguments   environment.yml    LICENSE.md    README.md\tSIBR_viewers  utils\n",
            "assets\t    full_eval.py       lpipsPyTorch  render.py\tsubmodules\n",
            "convert.py  gaussian_renderer  metrics.py    scene\ttrain.py\n"
          ]
        }
      ]
    },
    {
      "cell_type": "code",
      "source": [
        "import sys"
      ],
      "metadata": {
        "id": "QbwWhzCOeiIA",
        "executionInfo": {
          "status": "ok",
          "timestamp": 1720060434729,
          "user_tz": 420,
          "elapsed": 2,
          "user": {
            "displayName": "",
            "userId": ""
          }
        }
      },
      "id": "QbwWhzCOeiIA",
      "execution_count": 3,
      "outputs": []
    },
    {
      "cell_type": "code",
      "source": [
        "sys.path.append(\"/content/repos/gaussian-splatting\")"
      ],
      "metadata": {
        "id": "RR8BsEusweTj",
        "executionInfo": {
          "status": "ok",
          "timestamp": 1720060435251,
          "user_tz": 420,
          "elapsed": 524,
          "user": {
            "displayName": "",
            "userId": ""
          }
        }
      },
      "id": "RR8BsEusweTj",
      "execution_count": 4,
      "outputs": []
    },
    {
      "cell_type": "code",
      "source": [
        "sys.path"
      ],
      "metadata": {
        "colab": {
          "base_uri": "https://localhost:8080/"
        },
        "id": "r2S8O50Fw4tF",
        "executionInfo": {
          "status": "ok",
          "timestamp": 1720043023278,
          "user_tz": 420,
          "elapsed": 1,
          "user": {
            "displayName": "",
            "userId": ""
          }
        },
        "outputId": "8022d923-0eeb-4822-b399-48bff5a03984"
      },
      "id": "r2S8O50Fw4tF",
      "execution_count": null,
      "outputs": [
        {
          "output_type": "execute_result",
          "data": {
            "text/plain": [
              "['/content',\n",
              " '/env/python',\n",
              " '/usr/lib/python310.zip',\n",
              " '/usr/lib/python3.10',\n",
              " '/usr/lib/python3.10/lib-dynload',\n",
              " '',\n",
              " '/usr/local/lib/python3.10/dist-packages',\n",
              " '/content/repos/gloss/src',\n",
              " '/content/repos/gaussian-splatting/submodules/diff-gaussian-rasterization',\n",
              " '/content/repos/gaussian-splatting/submodules/simple-knn',\n",
              " '/usr/lib/python3/dist-packages',\n",
              " '/usr/local/lib/python3.10/dist-packages/IPython/extensions',\n",
              " '/root/.ipython',\n",
              " '/content/repos/gaussian-splatting']"
            ]
          },
          "metadata": {},
          "execution_count": 6
        }
      ]
    },
    {
      "cell_type": "code",
      "source": [
        "!pip install -q plyfile"
      ],
      "metadata": {
        "colab": {
          "base_uri": "https://localhost:8080/"
        },
        "id": "Oq-thaasxUgD",
        "executionInfo": {
          "status": "ok",
          "timestamp": 1719274929508,
          "user_tz": 420,
          "elapsed": 6969,
          "user": {
            "displayName": "",
            "userId": ""
          }
        },
        "outputId": "2163cb0d-da50-4779-8aa0-40a4ca534b2c"
      },
      "id": "Oq-thaasxUgD",
      "execution_count": null,
      "outputs": [
        {
          "output_type": "stream",
          "name": "stdout",
          "text": [
            "Collecting plyfile\n",
            "  Downloading plyfile-1.0.3-py3-none-any.whl (23 kB)\n",
            "Requirement already satisfied: numpy>=1.17 in /usr/local/lib/python3.10/dist-packages (from plyfile) (1.25.2)\n",
            "Installing collected packages: plyfile\n",
            "Successfully installed plyfile-1.0.3\n"
          ]
        }
      ]
    },
    {
      "cell_type": "markdown",
      "source": [
        "### Install Submodules"
      ],
      "metadata": {
        "id": "wpbWbU0MycuW"
      },
      "id": "wpbWbU0MycuW"
    },
    {
      "cell_type": "code",
      "source": [
        "!pip install -e /content/repos/gaussian-splatting/submodules/diff-gaussian-rasterization"
      ],
      "metadata": {
        "colab": {
          "base_uri": "https://localhost:8080/"
        },
        "id": "b8xUr3xPx7tT",
        "executionInfo": {
          "status": "ok",
          "timestamp": 1719275345231,
          "user_tz": 420,
          "elapsed": 163588,
          "user": {
            "displayName": "",
            "userId": ""
          }
        },
        "outputId": "bb0ed109-c597-4a4a-bac6-86ae046d33e4"
      },
      "id": "b8xUr3xPx7tT",
      "execution_count": null,
      "outputs": [
        {
          "output_type": "stream",
          "name": "stdout",
          "text": [
            "Obtaining file:///content/repos/gaussian-splatting/submodules/diff-gaussian-rasterization\n",
            "  Preparing metadata (setup.py) ... \u001b[?25l\u001b[?25hdone\n",
            "Installing collected packages: diff-gaussian-rasterization\n",
            "  Running setup.py develop for diff-gaussian-rasterization\n",
            "Successfully installed diff-gaussian-rasterization-0.0.0\n"
          ]
        }
      ]
    },
    {
      "cell_type": "code",
      "source": [
        "!pip install -e /content/repos/gaussian-splatting/submodules/simple-knn"
      ],
      "metadata": {
        "colab": {
          "base_uri": "https://localhost:8080/"
        },
        "id": "9BXlP88cyWsj",
        "executionInfo": {
          "status": "ok",
          "timestamp": 1719293069649,
          "user_tz": 420,
          "elapsed": 143948,
          "user": {
            "displayName": "",
            "userId": ""
          }
        },
        "outputId": "feee6cd7-56b6-48a2-ba9d-c85738e12a65"
      },
      "id": "9BXlP88cyWsj",
      "execution_count": null,
      "outputs": [
        {
          "output_type": "stream",
          "name": "stdout",
          "text": [
            "Obtaining file:///content/repos/gaussian-splatting/submodules/simple-knn\n",
            "  Preparing metadata (setup.py) ... \u001b[?25l\u001b[?25hdone\n",
            "Installing collected packages: simple-knn\n",
            "  Running setup.py develop for simple-knn\n",
            "Successfully installed simple-knn-0.0.0\n"
          ]
        }
      ]
    },
    {
      "cell_type": "markdown",
      "source": [
        "## Download scenes"
      ],
      "metadata": {
        "id": "7fkqb60sA_lc"
      },
      "id": "7fkqb60sA_lc"
    },
    {
      "cell_type": "code",
      "source": [
        "!mkdir -p /content/gs2_test/\n",
        "# !wget https://repo-sam.inria.fr/fungraph/3d-gaussian-splatting/datasets/input/tandt_db.zip -O /content/gs2_test/tandt_db.zip"
      ],
      "metadata": {
        "colab": {
          "base_uri": "https://localhost:8080/"
        },
        "id": "d6y31CL_A_Tq",
        "executionInfo": {
          "status": "ok",
          "timestamp": 1720034160747,
          "user_tz": 420,
          "elapsed": 86446,
          "user": {
            "displayName": "",
            "userId": ""
          }
        },
        "outputId": "20563c0a-5465-4bf6-b54a-0dea6d6410c4"
      },
      "id": "d6y31CL_A_Tq",
      "execution_count": null,
      "outputs": [
        {
          "output_type": "stream",
          "name": "stdout",
          "text": [
            "--2024-07-03 19:14:34--  https://repo-sam.inria.fr/fungraph/3d-gaussian-splatting/datasets/input/tandt_db.zip\n",
            "Resolving repo-sam.inria.fr (repo-sam.inria.fr)... 138.96.1.1\n",
            "Connecting to repo-sam.inria.fr (repo-sam.inria.fr)|138.96.1.1|:443... connected.\n",
            "HTTP request sent, awaiting response... 200 OK\n",
            "Length: 682628995 (651M) [application/zip]\n",
            "Saving to: ‘/content/gs2_test/tandt_db.zip’\n",
            "\n",
            "/content/gs2_test/t 100%[===================>] 651.00M  7.59MB/s    in 84s     \n",
            "\n",
            "2024-07-03 19:16:00 (7.72 MB/s) - ‘/content/gs2_test/tandt_db.zip’ saved [682628995/682628995]\n",
            "\n"
          ]
        }
      ]
    },
    {
      "cell_type": "code",
      "source": [
        "!mkdir -p /content/gs2_test/hp\n",
        "!gsutil -m rsync -r gs://ai-dust/gs_scenes/hp /content/gs2_test/hp"
      ],
      "metadata": {
        "id": "8NSDUjcU3b5x"
      },
      "id": "8NSDUjcU3b5x",
      "execution_count": null,
      "outputs": []
    },
    {
      "cell_type": "markdown",
      "source": [
        "Unzip the asset"
      ],
      "metadata": {
        "id": "8Jdu4MaSGlgE"
      },
      "id": "8Jdu4MaSGlgE"
    },
    {
      "cell_type": "code",
      "source": [
        "# !cd /content/gs2_test && unzip tandt_db.zip > /dev/null && cd /content"
      ],
      "metadata": {
        "id": "m9clG7o1GK7p"
      },
      "id": "m9clG7o1GK7p",
      "execution_count": null,
      "outputs": []
    },
    {
      "cell_type": "code",
      "source": [
        "!ls /content/gs2_test/tandt/train"
      ],
      "metadata": {
        "colab": {
          "base_uri": "https://localhost:8080/"
        },
        "id": "_b_W0DUhK8XX",
        "executionInfo": {
          "status": "ok",
          "timestamp": 1720043030988,
          "user_tz": 420,
          "elapsed": 6,
          "user": {
            "displayName": "",
            "userId": ""
          }
        },
        "outputId": "1b907836-c4ba-4c3c-dae6-a35d29540588"
      },
      "id": "_b_W0DUhK8XX",
      "execution_count": null,
      "outputs": [
        {
          "output_type": "stream",
          "name": "stdout",
          "text": [
            "images\tsparse\tweights\n"
          ]
        }
      ]
    },
    {
      "cell_type": "markdown",
      "source": [
        "## Importing"
      ],
      "metadata": {
        "id": "XfvmlbTheqhD"
      },
      "id": "XfvmlbTheqhD"
    },
    {
      "cell_type": "code",
      "source": [
        "from PIL import Image\n",
        "import sys\n",
        "import numpy as np\n",
        "from tqdm.auto import tqdm\n",
        "from random import randint\n",
        "\n",
        "import torch\n",
        "import torchvision as tv\n",
        "\n",
        "from scene import Scene\n",
        "from scene.cameras import Camera\n",
        "from gaussian_renderer import render, GaussianModel\n",
        "from utils.general_utils import safe_state\n",
        "from utils.loss_utils import l1_loss, ssim\n",
        "from arguments import ModelParams, PipelineParams, OptimizationParams, get_combined_args, ParamGroup"
      ],
      "metadata": {
        "id": "xt6I738xwWgV",
        "executionInfo": {
          "status": "ok",
          "timestamp": 1720060453807,
          "user_tz": 420,
          "elapsed": 9622,
          "user": {
            "displayName": "",
            "userId": ""
          }
        }
      },
      "id": "xt6I738xwWgV",
      "execution_count": 5,
      "outputs": []
    },
    {
      "cell_type": "code",
      "source": [
        "def __init__(self, data, name : str, fill_none = False):\n",
        "    self.data = data\n",
        "\n",
        "def from_dict(self):\n",
        "    for key, value in self.data.items():\n",
        "        if key in vars(self) or f\"_{key}\" in vars(self):\n",
        "            setattr(self, key, value)\n",
        "    return self\n",
        "\n",
        "def to_dict(self):\n",
        "    data = vars(self)\n",
        "    del data['data']\n",
        "    return data\n",
        "\n",
        "ParamGroup.__init__ = __init__\n",
        "ParamGroup.from_dict = from_dict\n",
        "ParamGroup.to_dict = to_dict"
      ],
      "metadata": {
        "id": "bpvGaUiai0TX",
        "executionInfo": {
          "status": "ok",
          "timestamp": 1720060453807,
          "user_tz": 420,
          "elapsed": 2,
          "user": {
            "displayName": "",
            "userId": ""
          }
        }
      },
      "id": "bpvGaUiai0TX",
      "execution_count": 6,
      "outputs": []
    },
    {
      "cell_type": "code",
      "source": [
        "from pathlib import Path"
      ],
      "metadata": {
        "id": "WDZIrJ9ELb4l",
        "executionInfo": {
          "status": "ok",
          "timestamp": 1720060453807,
          "user_tz": 420,
          "elapsed": 1,
          "user": {
            "displayName": "",
            "userId": ""
          }
        }
      },
      "id": "WDZIrJ9ELb4l",
      "execution_count": 7,
      "outputs": []
    },
    {
      "cell_type": "code",
      "source": [
        "SOURCE_PATH = Path(\"/content/gs2_test/tandt/truck\")\n",
        "(SOURCE_PATH/\"weights\").mkdir(exist_ok=True, parents=True)"
      ],
      "metadata": {
        "id": "FZRBJuwbLIug",
        "executionInfo": {
          "status": "ok",
          "timestamp": 1720060453807,
          "user_tz": 420,
          "elapsed": 1,
          "user": {
            "displayName": "",
            "userId": ""
          }
        }
      },
      "id": "FZRBJuwbLIug",
      "execution_count": 8,
      "outputs": []
    },
    {
      "cell_type": "code",
      "source": [
        "device = \"cuda\""
      ],
      "metadata": {
        "id": "020lgeCtNzQI",
        "executionInfo": {
          "status": "ok",
          "timestamp": 1720060453807,
          "user_tz": 420,
          "elapsed": 1,
          "user": {
            "displayName": "",
            "userId": ""
          }
        }
      },
      "id": "020lgeCtNzQI",
      "execution_count": 9,
      "outputs": []
    },
    {
      "cell_type": "code",
      "source": [
        "INPUT_ARGS = {\n",
        "    'iterations':90000,\n",
        "    'ip': \"127.0.0.1\",\n",
        "    'port': 6009,\n",
        "    'debug_from': -1,\n",
        "    'detect_anomaly': False,\n",
        "    'test_iterations': [7_000, 30_000],\n",
        "    'save_iterations': [7_000, 30_000],\n",
        "    'quiet': True,\n",
        "    'checkpoint_iterations': [],\n",
        "    'data_device':device,\n",
        "    'start_checkpoint': None,\n",
        "    'model_path': str(SOURCE_PATH/\"weights\"),\n",
        "    'images': str(SOURCE_PATH / \"images\"),\n",
        "    'source_path': str(SOURCE_PATH),\n",
        "    'resolution':1,\n",
        "}\n",
        "mp = ModelParams(INPUT_ARGS).from_dict()\n",
        "pp = PipelineParams(INPUT_ARGS).from_dict()\n",
        "op = OptimizationParams(INPUT_ARGS).from_dict()"
      ],
      "metadata": {
        "id": "2VzbGwhElLK-",
        "executionInfo": {
          "status": "ok",
          "timestamp": 1720062131369,
          "user_tz": 420,
          "elapsed": 375,
          "user": {
            "displayName": "",
            "userId": ""
          }
        }
      },
      "id": "2VzbGwhElLK-",
      "execution_count": 27,
      "outputs": []
    },
    {
      "cell_type": "markdown",
      "source": [
        "### Print current parameters"
      ],
      "metadata": {
        "id": "LCbQGW6_0eZV"
      },
      "id": "LCbQGW6_0eZV"
    },
    {
      "cell_type": "code",
      "source": [
        "mp.to_dict()"
      ],
      "metadata": {
        "colab": {
          "base_uri": "https://localhost:8080/"
        },
        "id": "1MsOrQR-zrk8",
        "executionInfo": {
          "status": "ok",
          "timestamp": 1720062131369,
          "user_tz": 420,
          "elapsed": 2,
          "user": {
            "displayName": "",
            "userId": ""
          }
        },
        "outputId": "65be1c32-454d-4d74-a07d-60fceecbb0ae"
      },
      "id": "1MsOrQR-zrk8",
      "execution_count": 28,
      "outputs": [
        {
          "output_type": "execute_result",
          "data": {
            "text/plain": [
              "{'sh_degree': 3,\n",
              " '_source_path': '',\n",
              " '_model_path': '',\n",
              " '_images': 'images',\n",
              " '_resolution': -1,\n",
              " '_white_background': False,\n",
              " 'data_device': 'cuda',\n",
              " 'eval': False,\n",
              " 'model_path': '/content/gs2_test/tandt/truck/weights',\n",
              " 'images': '/content/gs2_test/tandt/truck/images',\n",
              " 'source_path': '/content/gs2_test/tandt/truck',\n",
              " 'resolution': 1}"
            ]
          },
          "metadata": {},
          "execution_count": 28
        }
      ]
    },
    {
      "cell_type": "code",
      "source": [
        "pp.to_dict()"
      ],
      "metadata": {
        "colab": {
          "base_uri": "https://localhost:8080/"
        },
        "id": "0eo8chyjzy2l",
        "executionInfo": {
          "status": "ok",
          "timestamp": 1720062131369,
          "user_tz": 420,
          "elapsed": 2,
          "user": {
            "displayName": "",
            "userId": ""
          }
        },
        "outputId": "f593e86e-7e4a-4ce5-ca00-9b5bb335260e"
      },
      "id": "0eo8chyjzy2l",
      "execution_count": 29,
      "outputs": [
        {
          "output_type": "execute_result",
          "data": {
            "text/plain": [
              "{'convert_SHs_python': False, 'compute_cov3D_python': False, 'debug': False}"
            ]
          },
          "metadata": {},
          "execution_count": 29
        }
      ]
    },
    {
      "cell_type": "code",
      "source": [
        "op.to_dict()"
      ],
      "metadata": {
        "colab": {
          "base_uri": "https://localhost:8080/"
        },
        "id": "gusHnpDQz2Vo",
        "executionInfo": {
          "status": "ok",
          "timestamp": 1720062131369,
          "user_tz": 420,
          "elapsed": 1,
          "user": {
            "displayName": "",
            "userId": ""
          }
        },
        "outputId": "b192885f-f2b1-426b-9d75-7ec509c76ff3"
      },
      "id": "gusHnpDQz2Vo",
      "execution_count": 30,
      "outputs": [
        {
          "output_type": "execute_result",
          "data": {
            "text/plain": [
              "{'iterations': 90000,\n",
              " 'position_lr_init': 0.00016,\n",
              " 'position_lr_final': 1.6e-06,\n",
              " 'position_lr_delay_mult': 0.01,\n",
              " 'position_lr_max_steps': 30000,\n",
              " 'feature_lr': 0.0025,\n",
              " 'opacity_lr': 0.05,\n",
              " 'scaling_lr': 0.005,\n",
              " 'rotation_lr': 0.001,\n",
              " 'percent_dense': 0.01,\n",
              " 'lambda_dssim': 0.2,\n",
              " 'densification_interval': 100,\n",
              " 'opacity_reset_interval': 3000,\n",
              " 'densify_from_iter': 500,\n",
              " 'densify_until_iter': 15000,\n",
              " 'densify_grad_threshold': 0.0002,\n",
              " 'random_background': False}"
            ]
          },
          "metadata": {},
          "execution_count": 30
        }
      ]
    },
    {
      "cell_type": "markdown",
      "source": [
        "### Load gaussians & scene"
      ],
      "metadata": {
        "id": "D7GZuvxyjj4R"
      },
      "id": "D7GZuvxyjj4R"
    },
    {
      "cell_type": "code",
      "source": [
        "gaussians = GaussianModel(mp.sh_degree)"
      ],
      "metadata": {
        "id": "aMB68RPGn20V",
        "executionInfo": {
          "status": "ok",
          "timestamp": 1720062132224,
          "user_tz": 420,
          "elapsed": 1,
          "user": {
            "displayName": "",
            "userId": ""
          }
        }
      },
      "id": "aMB68RPGn20V",
      "execution_count": 31,
      "outputs": []
    },
    {
      "cell_type": "code",
      "source": [
        "scene = Scene(mp, gaussians)"
      ],
      "metadata": {
        "colab": {
          "base_uri": "https://localhost:8080/"
        },
        "id": "-7NCUKoqzhtL",
        "executionInfo": {
          "status": "ok",
          "timestamp": 1720062138487,
          "user_tz": 420,
          "elapsed": 5924,
          "user": {
            "displayName": "",
            "userId": ""
          }
        },
        "outputId": "adaefebd-b869-4c87-8524-b217ca0cc6ec"
      },
      "id": "-7NCUKoqzhtL",
      "execution_count": 32,
      "outputs": [
        {
          "output_type": "stream",
          "name": "stdout",
          "text": [
            "Reading camera 251/251\n",
            "Loading Training Cameras\n",
            "Loading Test Cameras\n",
            "Number of points at initialisation :  136029\n"
          ]
        }
      ]
    },
    {
      "cell_type": "code",
      "source": [
        "gaussians.training_setup(op)"
      ],
      "metadata": {
        "id": "0p4OND6pZOs0",
        "executionInfo": {
          "status": "ok",
          "timestamp": 1720062138487,
          "user_tz": 420,
          "elapsed": 12,
          "user": {
            "displayName": "",
            "userId": ""
          }
        }
      },
      "id": "0p4OND6pZOs0",
      "execution_count": 33,
      "outputs": []
    },
    {
      "cell_type": "code",
      "source": [
        "scene"
      ],
      "metadata": {
        "id": "HI7mBtIRPZmX",
        "colab": {
          "base_uri": "https://localhost:8080/"
        },
        "executionInfo": {
          "status": "ok",
          "timestamp": 1720062138487,
          "user_tz": 420,
          "elapsed": 11,
          "user": {
            "displayName": "",
            "userId": ""
          }
        },
        "outputId": "f02cb5ac-3514-4c23-ae88-2159e2472a89"
      },
      "id": "HI7mBtIRPZmX",
      "execution_count": 34,
      "outputs": [
        {
          "output_type": "execute_result",
          "data": {
            "text/plain": [
              "<scene.Scene at 0x7d824336f1f0>"
            ]
          },
          "metadata": {},
          "execution_count": 34
        }
      ]
    },
    {
      "cell_type": "code",
      "source": [
        "WHITE_BACKGROUND = True"
      ],
      "metadata": {
        "id": "ZGExFPg0PmcD",
        "executionInfo": {
          "status": "ok",
          "timestamp": 1720062138487,
          "user_tz": 420,
          "elapsed": 10,
          "user": {
            "displayName": "",
            "userId": ""
          }
        }
      },
      "id": "ZGExFPg0PmcD",
      "execution_count": 35,
      "outputs": []
    },
    {
      "cell_type": "code",
      "source": [
        "bg_color = [1, 1, 1] if WHITE_BACKGROUND else [0, 0, 0]\n",
        "background = torch.tensor(bg_color, dtype=torch.float32, device=device)"
      ],
      "metadata": {
        "id": "KDj-rsXcM-ut",
        "executionInfo": {
          "status": "ok",
          "timestamp": 1720062138487,
          "user_tz": 420,
          "elapsed": 10,
          "user": {
            "displayName": "",
            "userId": ""
          }
        }
      },
      "id": "KDj-rsXcM-ut",
      "execution_count": 36,
      "outputs": []
    },
    {
      "cell_type": "code",
      "source": [
        "@torch.no_grad\n",
        "def densification(\n",
        "    idx,\n",
        "    op,\n",
        "    gaussians,\n",
        "    scene,\n",
        "    visibility_filter,\n",
        "    radii,\n",
        "    min_opacity: float = 0.005,\n",
        "  ):\n",
        "  if idx < op.densify_until_iter:\n",
        "      gaussians.max_radii2D[visibility_filter] = torch.max(gaussians.max_radii2D[visibility_filter], radii[visibility_filter])\n",
        "  if idx > op.densify_from_iter and idx % op.densification_interval == 0:\n",
        "      size_threshold = 20 if idx > op.opacity_reset_interval else None\n",
        "      gaussians.densify_and_prune(\n",
        "          op.densify_grad_threshold,\n",
        "          min_opacity,\n",
        "          scene.cameras_extent,\n",
        "          size_threshold)\n",
        "  if idx % op.opacity_reset_interval == 0 or (WHITE_BACKGROUND and idx == op.densify_from_iter):\n",
        "      gaussians.reset_opacity()"
      ],
      "metadata": {
        "id": "VztJ_l51OX3O",
        "executionInfo": {
          "status": "ok",
          "timestamp": 1720062138487,
          "user_tz": 420,
          "elapsed": 10,
          "user": {
            "displayName": "",
            "userId": ""
          }
        }
      },
      "id": "VztJ_l51OX3O",
      "execution_count": 37,
      "outputs": []
    },
    {
      "cell_type": "code",
      "source": [
        "viewpoint_stack = None\n",
        "ema_loss_for_log = 0.0"
      ],
      "metadata": {
        "id": "A_d4v21vPzWt",
        "executionInfo": {
          "status": "ok",
          "timestamp": 1720062138487,
          "user_tz": 420,
          "elapsed": 10,
          "user": {
            "displayName": "",
            "userId": ""
          }
        }
      },
      "id": "A_d4v21vPzWt",
      "execution_count": 38,
      "outputs": []
    },
    {
      "cell_type": "markdown",
      "source": [
        "## Training loop"
      ],
      "metadata": {
        "id": "edEZ0XdvdG2k"
      },
      "id": "edEZ0XdvdG2k"
    },
    {
      "cell_type": "code",
      "source": [
        "pg_bar = tqdm(range(op.iterations),leave=False, desc=\"🚀 training\")\n",
        "\n",
        "for idx in pg_bar:\n",
        "    gaussians.update_learning_rate(idx)\n",
        "    # Every 1000 its we increase the levels of SH up to a maximum degree\n",
        "    if idx % 1000 == 0:\n",
        "        gaussians.oneupSHdegree()\n",
        "    # Pick a random Camera\n",
        "    if not viewpoint_stack:\n",
        "        viewpoint_stack = scene.getTrainCameras().copy()\n",
        "    viewpoint_cam = viewpoint_stack.pop(randint(0, len(viewpoint_stack)-1))\n",
        "\n",
        "    # setup background, considering if switching in random background\n",
        "    bg = torch.rand((3), device=device) if op.random_background else background\n",
        "\n",
        "    # this is where the magic happens\n",
        "    #\n",
        "    render_pkg = render(viewpoint_cam, gaussians, pp, bg)\n",
        "\n",
        "    # unpack the render package\n",
        "    image = render_pkg[\"render\"]\n",
        "    viewspace_point_tensor = render_pkg[\"viewspace_points\"]\n",
        "    visibility_filter = render_pkg[\"visibility_filter\"]\n",
        "    radii = render_pkg[\"radii\"]\n",
        "\n",
        "    # ground truth image\n",
        "    gt_image = viewpoint_cam.original_image.to(device)\n",
        "\n",
        "    Ll1 = l1_loss(image, gt_image)\n",
        "    loss = (1.0 - op.lambda_dssim) * Ll1 + op.lambda_dssim * (1.0 - ssim(image, gt_image))\n",
        "    loss.backward()\n",
        "\n",
        "    gaussians.optimizer.step()\n",
        "    gaussians.optimizer.zero_grad(set_to_none = True)\n",
        "\n",
        "    densification(idx, op, gaussians, scene, visibility_filter, radii)\n",
        "\n",
        "    with torch.no_grad():\n",
        "        ema_loss_for_log = 0.4 * loss.item() + 0.6 * ema_loss_for_log\n",
        "        if idx % 10 == 0:\n",
        "            pg_bar.set_postfix({\"loss\": f\"{ema_loss_for_log:.{7}f}\"})"
      ],
      "metadata": {
        "colab": {
          "base_uri": "https://localhost:8080/",
          "height": 17,
          "referenced_widgets": [
            "6149eeff9fd94b808fe5f5ed6468404c",
            "1bf7ad6de163457ab559d3f0480e7f3e",
            "56df297bb4834707b942acb041e6f567",
            "652fde57e8a7480ab234161454f65650",
            "8ce0fb8e6c834737be81c40595e30d92",
            "8a91fc96684c4e7fb952bb74780ce9ad",
            "c868341a05e9466b835f388d8df4979a",
            "ebdfb267fc6248f482ae5adb4f92c2eb",
            "b901322bd8ae4139955536b52c6e707e",
            "6d659ebb398e4a4ea67a144f0113b87d",
            "6c1c63ea94034ae8916beea2a810dd1e"
          ]
        },
        "id": "Y8wHhzSxZth9",
        "executionInfo": {
          "status": "ok",
          "timestamp": 1720063031193,
          "user_tz": 420,
          "elapsed": 892716,
          "user": {
            "displayName": "",
            "userId": ""
          }
        },
        "outputId": "a8a50f80-c7b0-4caa-90cc-743fca24e223"
      },
      "id": "Y8wHhzSxZth9",
      "execution_count": 39,
      "outputs": [
        {
          "output_type": "display_data",
          "data": {
            "text/plain": [
              "🚀 training:   0%|          | 0/90000 [00:00<?, ?it/s]"
            ],
            "application/vnd.jupyter.widget-view+json": {
              "version_major": 2,
              "version_minor": 0,
              "model_id": "6149eeff9fd94b808fe5f5ed6468404c"
            }
          },
          "metadata": {}
        }
      ]
    },
    {
      "cell_type": "code",
      "source": [
        "save_path = str(Path(scene.model_path)/f\"chkpnt_{idx:06d}.pth\")\n",
        "torch.save((gaussians.capture(), idx), save_path)"
      ],
      "metadata": {
        "id": "4TS4hzmqf5GU",
        "executionInfo": {
          "status": "ok",
          "timestamp": 1720063031193,
          "user_tz": 420,
          "elapsed": 8,
          "user": {
            "displayName": "",
            "userId": ""
          }
        }
      },
      "id": "4TS4hzmqf5GU",
      "execution_count": 40,
      "outputs": []
    },
    {
      "cell_type": "code",
      "source": [
        "scene.save(idx)"
      ],
      "metadata": {
        "id": "1whGw6YcyXkL",
        "executionInfo": {
          "status": "ok",
          "timestamp": 1720063031193,
          "user_tz": 420,
          "elapsed": 6,
          "user": {
            "displayName": "",
            "userId": ""
          }
        }
      },
      "id": "1whGw6YcyXkL",
      "execution_count": 41,
      "outputs": []
    },
    {
      "cell_type": "code",
      "source": [
        "for i, plyfile in enumerate(Path(scene.model_path).rglob(\"point_cloud.ply\")):\n",
        "    print(f\"gsutil cp {plyfile} gs://ai-dust/gs_scenes/plyfiles/hp{i:02d}.ply\")"
      ],
      "metadata": {
        "colab": {
          "base_uri": "https://localhost:8080/"
        },
        "id": "ogosg8xs61uJ",
        "executionInfo": {
          "status": "ok",
          "timestamp": 1720061500078,
          "user_tz": 420,
          "elapsed": 1,
          "user": {
            "displayName": "",
            "userId": ""
          }
        },
        "outputId": "ca57ebdc-9dec-4a68-b928-6e67bca64b63"
      },
      "id": "ogosg8xs61uJ",
      "execution_count": 25,
      "outputs": [
        {
          "output_type": "stream",
          "name": "stdout",
          "text": [
            "gsutil cp /content/gs2_test/tandt/truck/weights/point_cloud/iteration_89999/point_cloud.ply gs://ai-dust/gs_scenes/plyfiles/hp00.ply\n",
            "gsutil cp /content/gs2_test/tandt/truck/weights/point_cloud/iteration_29999/point_cloud.ply gs://ai-dust/gs_scenes/plyfiles/hp01.ply\n"
          ]
        }
      ]
    },
    {
      "cell_type": "code",
      "source": [
        "!gsutil cp /content/gs2_test/tandt/truck/weights/point_cloud/iteration_89999/point_cloud.ply gs://ai-dust/gs_scenes/plyfiles/hp00.ply"
      ],
      "metadata": {
        "colab": {
          "base_uri": "https://localhost:8080/"
        },
        "id": "j99kcvJVI-qV",
        "executionInfo": {
          "status": "ok",
          "timestamp": 1720068881131,
          "user_tz": 420,
          "elapsed": 6097,
          "user": {
            "displayName": "",
            "userId": ""
          }
        },
        "outputId": "ab369c47-21ec-4230-f3a3-b035b591e92c"
      },
      "id": "j99kcvJVI-qV",
      "execution_count": 42,
      "outputs": [
        {
          "output_type": "stream",
          "name": "stdout",
          "text": [
            "Copying file:///content/gs2_test/tandt/truck/weights/point_cloud/iteration_89999/point_cloud.ply [Content-Type=application/octet-stream]...\n",
            "\\\n",
            "Operation completed over 1 objects/1.7 MiB.                                      \n"
          ]
        }
      ]
    },
    {
      "cell_type": "code",
      "source": [
        "!gsutil cp /content/gs2_test/hp/weights/point_cloud/iteration_4999/point_cloud.ply gs://ai-dust/gs_scenes/plyfiles/hp01.ply\n"
      ],
      "metadata": {
        "colab": {
          "base_uri": "https://localhost:8080/"
        },
        "id": "H9aAyGbi75-5",
        "executionInfo": {
          "status": "ok",
          "timestamp": 1720052860529,
          "user_tz": 420,
          "elapsed": 5000,
          "user": {
            "displayName": "",
            "userId": ""
          }
        },
        "outputId": "bd0942e7-b047-4a37-f178-729165358310"
      },
      "id": "H9aAyGbi75-5",
      "execution_count": 111,
      "outputs": [
        {
          "output_type": "stream",
          "name": "stdout",
          "text": [
            "Copying file:///content/gs2_test/hp/weights/point_cloud/iteration_4999/point_cloud.ply [Content-Type=application/octet-stream]...\n",
            "-\n",
            "Operation completed over 1 objects/704.1 KiB.                                    \n"
          ]
        }
      ]
    },
    {
      "cell_type": "code",
      "source": [],
      "metadata": {
        "id": "tp85WMEM2mqs"
      },
      "id": "tp85WMEM2mqs",
      "execution_count": null,
      "outputs": []
    }
  ],
  "metadata": {
    "kernelspec": {
      "display_name": "Python 3",
      "language": "python",
      "name": "python3"
    },
    "language_info": {
      "codemirror_mode": {
        "name": "ipython",
        "version": 3
      },
      "file_extension": ".py",
      "mimetype": "text/x-python",
      "name": "python",
      "nbconvert_exporter": "python",
      "pygments_lexer": "ipython3",
      "version": "3.10.10"
    },
    "colab": {
      "provenance": [],
      "name": "gs-baseline"
    },
    "widgets": {
      "application/vnd.jupyter.widget-state+json": {
        "6149eeff9fd94b808fe5f5ed6468404c": {
          "model_module": "@jupyter-widgets/controls",
          "model_name": "HBoxModel",
          "model_module_version": "1.5.0",
          "state": {
            "_dom_classes": [],
            "_model_module": "@jupyter-widgets/controls",
            "_model_module_version": "1.5.0",
            "_model_name": "HBoxModel",
            "_view_count": null,
            "_view_module": "@jupyter-widgets/controls",
            "_view_module_version": "1.5.0",
            "_view_name": "HBoxView",
            "box_style": "",
            "children": [
              "IPY_MODEL_1bf7ad6de163457ab559d3f0480e7f3e",
              "IPY_MODEL_56df297bb4834707b942acb041e6f567",
              "IPY_MODEL_652fde57e8a7480ab234161454f65650"
            ],
            "layout": "IPY_MODEL_8ce0fb8e6c834737be81c40595e30d92"
          }
        },
        "1bf7ad6de163457ab559d3f0480e7f3e": {
          "model_module": "@jupyter-widgets/controls",
          "model_name": "HTMLModel",
          "model_module_version": "1.5.0",
          "state": {
            "_dom_classes": [],
            "_model_module": "@jupyter-widgets/controls",
            "_model_module_version": "1.5.0",
            "_model_name": "HTMLModel",
            "_view_count": null,
            "_view_module": "@jupyter-widgets/controls",
            "_view_module_version": "1.5.0",
            "_view_name": "HTMLView",
            "description": "",
            "description_tooltip": null,
            "layout": "IPY_MODEL_8a91fc96684c4e7fb952bb74780ce9ad",
            "placeholder": "​",
            "style": "IPY_MODEL_c868341a05e9466b835f388d8df4979a",
            "value": "🚀 training: 100%"
          }
        },
        "56df297bb4834707b942acb041e6f567": {
          "model_module": "@jupyter-widgets/controls",
          "model_name": "FloatProgressModel",
          "model_module_version": "1.5.0",
          "state": {
            "_dom_classes": [],
            "_model_module": "@jupyter-widgets/controls",
            "_model_module_version": "1.5.0",
            "_model_name": "FloatProgressModel",
            "_view_count": null,
            "_view_module": "@jupyter-widgets/controls",
            "_view_module_version": "1.5.0",
            "_view_name": "ProgressView",
            "bar_style": "",
            "description": "",
            "description_tooltip": null,
            "layout": "IPY_MODEL_ebdfb267fc6248f482ae5adb4f92c2eb",
            "max": 90000,
            "min": 0,
            "orientation": "horizontal",
            "style": "IPY_MODEL_b901322bd8ae4139955536b52c6e707e",
            "value": 90000
          }
        },
        "652fde57e8a7480ab234161454f65650": {
          "model_module": "@jupyter-widgets/controls",
          "model_name": "HTMLModel",
          "model_module_version": "1.5.0",
          "state": {
            "_dom_classes": [],
            "_model_module": "@jupyter-widgets/controls",
            "_model_module_version": "1.5.0",
            "_model_name": "HTMLModel",
            "_view_count": null,
            "_view_module": "@jupyter-widgets/controls",
            "_view_module_version": "1.5.0",
            "_view_name": "HTMLView",
            "description": "",
            "description_tooltip": null,
            "layout": "IPY_MODEL_6d659ebb398e4a4ea67a144f0113b87d",
            "placeholder": "​",
            "style": "IPY_MODEL_6c1c63ea94034ae8916beea2a810dd1e",
            "value": " 89990/90000 [14:52&lt;00:00, 115.31it/s, loss=0.2506609]"
          }
        },
        "8ce0fb8e6c834737be81c40595e30d92": {
          "model_module": "@jupyter-widgets/base",
          "model_name": "LayoutModel",
          "model_module_version": "1.2.0",
          "state": {
            "_model_module": "@jupyter-widgets/base",
            "_model_module_version": "1.2.0",
            "_model_name": "LayoutModel",
            "_view_count": null,
            "_view_module": "@jupyter-widgets/base",
            "_view_module_version": "1.2.0",
            "_view_name": "LayoutView",
            "align_content": null,
            "align_items": null,
            "align_self": null,
            "border": null,
            "bottom": null,
            "display": null,
            "flex": null,
            "flex_flow": null,
            "grid_area": null,
            "grid_auto_columns": null,
            "grid_auto_flow": null,
            "grid_auto_rows": null,
            "grid_column": null,
            "grid_gap": null,
            "grid_row": null,
            "grid_template_areas": null,
            "grid_template_columns": null,
            "grid_template_rows": null,
            "height": null,
            "justify_content": null,
            "justify_items": null,
            "left": null,
            "margin": null,
            "max_height": null,
            "max_width": null,
            "min_height": null,
            "min_width": null,
            "object_fit": null,
            "object_position": null,
            "order": null,
            "overflow": null,
            "overflow_x": null,
            "overflow_y": null,
            "padding": null,
            "right": null,
            "top": null,
            "visibility": "hidden",
            "width": null
          }
        },
        "8a91fc96684c4e7fb952bb74780ce9ad": {
          "model_module": "@jupyter-widgets/base",
          "model_name": "LayoutModel",
          "model_module_version": "1.2.0",
          "state": {
            "_model_module": "@jupyter-widgets/base",
            "_model_module_version": "1.2.0",
            "_model_name": "LayoutModel",
            "_view_count": null,
            "_view_module": "@jupyter-widgets/base",
            "_view_module_version": "1.2.0",
            "_view_name": "LayoutView",
            "align_content": null,
            "align_items": null,
            "align_self": null,
            "border": null,
            "bottom": null,
            "display": null,
            "flex": null,
            "flex_flow": null,
            "grid_area": null,
            "grid_auto_columns": null,
            "grid_auto_flow": null,
            "grid_auto_rows": null,
            "grid_column": null,
            "grid_gap": null,
            "grid_row": null,
            "grid_template_areas": null,
            "grid_template_columns": null,
            "grid_template_rows": null,
            "height": null,
            "justify_content": null,
            "justify_items": null,
            "left": null,
            "margin": null,
            "max_height": null,
            "max_width": null,
            "min_height": null,
            "min_width": null,
            "object_fit": null,
            "object_position": null,
            "order": null,
            "overflow": null,
            "overflow_x": null,
            "overflow_y": null,
            "padding": null,
            "right": null,
            "top": null,
            "visibility": null,
            "width": null
          }
        },
        "c868341a05e9466b835f388d8df4979a": {
          "model_module": "@jupyter-widgets/controls",
          "model_name": "DescriptionStyleModel",
          "model_module_version": "1.5.0",
          "state": {
            "_model_module": "@jupyter-widgets/controls",
            "_model_module_version": "1.5.0",
            "_model_name": "DescriptionStyleModel",
            "_view_count": null,
            "_view_module": "@jupyter-widgets/base",
            "_view_module_version": "1.2.0",
            "_view_name": "StyleView",
            "description_width": ""
          }
        },
        "ebdfb267fc6248f482ae5adb4f92c2eb": {
          "model_module": "@jupyter-widgets/base",
          "model_name": "LayoutModel",
          "model_module_version": "1.2.0",
          "state": {
            "_model_module": "@jupyter-widgets/base",
            "_model_module_version": "1.2.0",
            "_model_name": "LayoutModel",
            "_view_count": null,
            "_view_module": "@jupyter-widgets/base",
            "_view_module_version": "1.2.0",
            "_view_name": "LayoutView",
            "align_content": null,
            "align_items": null,
            "align_self": null,
            "border": null,
            "bottom": null,
            "display": null,
            "flex": null,
            "flex_flow": null,
            "grid_area": null,
            "grid_auto_columns": null,
            "grid_auto_flow": null,
            "grid_auto_rows": null,
            "grid_column": null,
            "grid_gap": null,
            "grid_row": null,
            "grid_template_areas": null,
            "grid_template_columns": null,
            "grid_template_rows": null,
            "height": null,
            "justify_content": null,
            "justify_items": null,
            "left": null,
            "margin": null,
            "max_height": null,
            "max_width": null,
            "min_height": null,
            "min_width": null,
            "object_fit": null,
            "object_position": null,
            "order": null,
            "overflow": null,
            "overflow_x": null,
            "overflow_y": null,
            "padding": null,
            "right": null,
            "top": null,
            "visibility": null,
            "width": null
          }
        },
        "b901322bd8ae4139955536b52c6e707e": {
          "model_module": "@jupyter-widgets/controls",
          "model_name": "ProgressStyleModel",
          "model_module_version": "1.5.0",
          "state": {
            "_model_module": "@jupyter-widgets/controls",
            "_model_module_version": "1.5.0",
            "_model_name": "ProgressStyleModel",
            "_view_count": null,
            "_view_module": "@jupyter-widgets/base",
            "_view_module_version": "1.2.0",
            "_view_name": "StyleView",
            "bar_color": null,
            "description_width": ""
          }
        },
        "6d659ebb398e4a4ea67a144f0113b87d": {
          "model_module": "@jupyter-widgets/base",
          "model_name": "LayoutModel",
          "model_module_version": "1.2.0",
          "state": {
            "_model_module": "@jupyter-widgets/base",
            "_model_module_version": "1.2.0",
            "_model_name": "LayoutModel",
            "_view_count": null,
            "_view_module": "@jupyter-widgets/base",
            "_view_module_version": "1.2.0",
            "_view_name": "LayoutView",
            "align_content": null,
            "align_items": null,
            "align_self": null,
            "border": null,
            "bottom": null,
            "display": null,
            "flex": null,
            "flex_flow": null,
            "grid_area": null,
            "grid_auto_columns": null,
            "grid_auto_flow": null,
            "grid_auto_rows": null,
            "grid_column": null,
            "grid_gap": null,
            "grid_row": null,
            "grid_template_areas": null,
            "grid_template_columns": null,
            "grid_template_rows": null,
            "height": null,
            "justify_content": null,
            "justify_items": null,
            "left": null,
            "margin": null,
            "max_height": null,
            "max_width": null,
            "min_height": null,
            "min_width": null,
            "object_fit": null,
            "object_position": null,
            "order": null,
            "overflow": null,
            "overflow_x": null,
            "overflow_y": null,
            "padding": null,
            "right": null,
            "top": null,
            "visibility": null,
            "width": null
          }
        },
        "6c1c63ea94034ae8916beea2a810dd1e": {
          "model_module": "@jupyter-widgets/controls",
          "model_name": "DescriptionStyleModel",
          "model_module_version": "1.5.0",
          "state": {
            "_model_module": "@jupyter-widgets/controls",
            "_model_module_version": "1.5.0",
            "_model_name": "DescriptionStyleModel",
            "_view_count": null,
            "_view_module": "@jupyter-widgets/base",
            "_view_module_version": "1.2.0",
            "_view_name": "StyleView",
            "description_width": ""
          }
        }
      }
    }
  },
  "nbformat": 4,
  "nbformat_minor": 5
}