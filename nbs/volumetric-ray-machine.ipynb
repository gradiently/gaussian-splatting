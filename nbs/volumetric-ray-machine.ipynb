{
 "cells": [
  {
   "cell_type": "code",
   "execution_count": 3,
   "metadata": {},
   "outputs": [
    {
     "data": {
      "text/plain": [
       "1280"
      ]
     },
     "execution_count": 3,
     "metadata": {},
     "output_type": "execute_result"
    }
   ],
   "source": [
    "import torch\n",
    "\n",
    "# Parameters\n",
    "volume_shape = (128, 128, 128)\n",
    "step_size = 0.1\n",
    "max_steps = int(volume_shape[0] / step_size)\n",
    "max_steps"
   ]
  },
  {
   "cell_type": "code",
   "execution_count": 4,
   "metadata": {},
   "outputs": [],
   "source": [
    "x = torch.linspace(-1, 1, volume_shape[0])\n",
    "y = torch.linspace(-1, 1, volume_shape[1])\n",
    "z = torch.linspace(-1, 1, volume_shape[2])"
   ]
  },
  {
   "cell_type": "code",
   "execution_count": 6,
   "metadata": {},
   "outputs": [
    {
     "name": "stderr",
     "output_type": "stream",
     "text": [
      "/Users/drwho/anaconda3/lib/python3.9/site-packages/torch/functional.py:504: UserWarning: torch.meshgrid: in an upcoming release, it will be required to pass the indexing argument. (Triggered internally at /Users/runner/work/pytorch/pytorch/pytorch/aten/src/ATen/native/TensorShape.cpp:3527.)\n",
      "  return _VF.meshgrid(tensors, **kwargs)  # type: ignore[attr-defined]\n"
     ]
    }
   ],
   "source": [
    "x, y, z = torch.meshgrid(x, y, z)"
   ]
  },
  {
   "cell_type": "code",
   "execution_count": 16,
   "metadata": {},
   "outputs": [
    {
     "data": {
      "text/plain": [
       "(tensor(1.), tensor(1.))"
      ]
     },
     "execution_count": 16,
     "metadata": {},
     "output_type": "execute_result"
    }
   ],
   "source": [
    "(x[:,0]==x[:,1]).float().min(), (x[:,:,0]==x[:,:,1]).float().min()"
   ]
  },
  {
   "cell_type": "code",
   "execution_count": 18,
   "metadata": {},
   "outputs": [
    {
     "data": {
      "text/plain": [
       "(tensor(1.), tensor(1.))"
      ]
     },
     "execution_count": 18,
     "metadata": {},
     "output_type": "execute_result"
    }
   ],
   "source": [
    "(y[0]==y[1]).float().min(), (y[:,:,0]==y[:,:,1]).float().min()"
   ]
  },
  {
   "cell_type": "code",
   "execution_count": 19,
   "metadata": {},
   "outputs": [
    {
     "data": {
      "text/plain": [
       "(tensor(1.), tensor(1.))"
      ]
     },
     "execution_count": 19,
     "metadata": {},
     "output_type": "execute_result"
    }
   ],
   "source": [
    "(z[0]==z[1]).float().min(), (z[:,0]==z[:,1]).float().min()"
   ]
  },
  {
   "cell_type": "code",
   "execution_count": 21,
   "metadata": {},
   "outputs": [],
   "source": [
    "volume = torch.exp(-(x**2 + y**2 + z**2))"
   ]
  },
  {
   "cell_type": "code",
   "execution_count": 22,
   "metadata": {},
   "outputs": [],
   "source": [
    "def ray_march(volume, ray_origin, ray_direction, step_size, max_steps):\n",
    "    accumulated_color = torch.zeros(3)\n",
    "    accumulated_opacity = 0.0\n",
    "    position = ray_origin.clone()\n",
    "    \n",
    "    for _ in range(max_steps):\n",
    "        # Sample the volume at the current position\n",
    "        i, j, k = (position * torch.tensor(volume.shape)).long()\n",
    "        if 0 <= i < volume.shape[0] and 0 <= j < volume.shape[1] and 0 <= k < volume.shape[2]:\n",
    "            density = volume[i, j, k]\n",
    "            color = torch.tensor([1.0, 0.5, 0.0])  # Assume orange color for simplicity\n",
    "            opacity = density * step_size  # Compute opacity based on density\n",
    "            \n",
    "            # Accumulate color and opacity\n",
    "            accumulated_color += (1 - accumulated_opacity) * color * opacity\n",
    "            accumulated_opacity += opacity\n",
    "        \n",
    "        # Move to the next position along the ray\n",
    "        position += ray_direction * step_size\n",
    "        \n",
    "        # Early exit if opacity is close to 1\n",
    "        if accumulated_opacity >= 1.0:\n",
    "            break\n",
    "    \n",
    "    return accumulated_color"
   ]
  },
  {
   "cell_type": "code",
   "execution_count": null,
   "metadata": {},
   "outputs": [],
   "source": []
  }
 ],
 "metadata": {
  "kernelspec": {
   "display_name": "base",
   "language": "python",
   "name": "python3"
  },
  "language_info": {
   "codemirror_mode": {
    "name": "ipython",
    "version": 3
   },
   "file_extension": ".py",
   "mimetype": "text/x-python",
   "name": "python",
   "nbconvert_exporter": "python",
   "pygments_lexer": "ipython3",
   "version": "3.9.12"
  }
 },
 "nbformat": 4,
 "nbformat_minor": 2
}
